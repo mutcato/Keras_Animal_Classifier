{
 "cells": [
  {
   "cell_type": "markdown",
   "metadata": {},
   "source": [
    "# İmporting libraries:\n",
    "*Matplotlib helps draw visual graphs\n",
    "\n",
    "*Sklearn is oldschool machine learning library. We will use three functions of it\n",
    "\n",
    "*Keras is high level machine learning library which uses Tensorflow or Theano background. Tensorflow and Theano both are low level machine learning libraries. Keras helps us to use theese low level libraries with simple functions. Now we use Keras with Tensorflow background."
   ]
  },
  {
   "cell_type": "code",
   "execution_count": 2,
   "metadata": {},
   "outputs": [
    {
     "name": "stderr",
     "output_type": "stream",
     "text": [
      "Using TensorFlow backend.\n"
     ]
    }
   ],
   "source": [
    "# USAGE\n",
    "# python train_simple_nn.py --dataset animals --model output/simple_nn.model --label-bin output/simple_nn_lb.pickle --plot output/simple_nn_plot.png\n",
    "\n",
    "# set the matplotlib backend so figures can be saved in the background\n",
    "%matplotlib inline\n",
    "import matplotlib\n",
    "matplotlib.rcParams['figure.figsize'] = [10,5]\n",
    "\n",
    "# import the necessary packages\n",
    "from sklearn.preprocessing import LabelBinarizer\n",
    "from sklearn.model_selection import train_test_split\n",
    "from sklearn.metrics import classification_report\n",
    "from keras.models import Sequential\n",
    "from keras.layers.core import Dense\n",
    "from keras.optimizers import SGD\n",
    "import matplotlib.pyplot as plt\n",
    "import numpy as np\n",
    "import argparse\n",
    "import random\n",
    "import pickle\n",
    "import cv2\n",
    "import os\n",
    "from glob import glob"
   ]
  },
  {
   "cell_type": "code",
   "execution_count": 6,
   "metadata": {},
   "outputs": [],
   "source": [
    "PROJECT_DIR = os.path.dirname(\"/home/mutlu/Public/My-Machine-Learning-and-Deep-Learning-Journey/Keras_Animal_Classification/\")"
   ]
  },
  {
   "cell_type": "markdown",
   "metadata": {},
   "source": [
    "# Data Preprocessing:\n"
   ]
  },
  {
   "cell_type": "code",
   "execution_count": 7,
   "metadata": {},
   "outputs": [
    {
     "data": {
      "text/plain": [
       "['/home/mutlu/Public/My-Machine-Learning-and-Deep-Learning-Journey/Keras_Animal_Classification/animals/dogs/dogs_00854.jpg',\n",
       " '/home/mutlu/Public/My-Machine-Learning-and-Deep-Learning-Journey/Keras_Animal_Classification/animals/cats/cats_00965.jpg',\n",
       " '/home/mutlu/Public/My-Machine-Learning-and-Deep-Learning-Journey/Keras_Animal_Classification/animals/dogs/dogs_00608.jpg',\n",
       " '/home/mutlu/Public/My-Machine-Learning-and-Deep-Learning-Journey/Keras_Animal_Classification/animals/dogs/dogs_00317.jpg',\n",
       " '/home/mutlu/Public/My-Machine-Learning-and-Deep-Learning-Journey/Keras_Animal_Classification/animals/cats/cats_00712.jpg',\n",
       " '/home/mutlu/Public/My-Machine-Learning-and-Deep-Learning-Journey/Keras_Animal_Classification/animals/panda/panda_00725.jpg',\n",
       " '/home/mutlu/Public/My-Machine-Learning-and-Deep-Learning-Journey/Keras_Animal_Classification/animals/dogs/dogs_00399.jpg',\n",
       " '/home/mutlu/Public/My-Machine-Learning-and-Deep-Learning-Journey/Keras_Animal_Classification/animals/panda/panda_00531.jpg',\n",
       " '/home/mutlu/Public/My-Machine-Learning-and-Deep-Learning-Journey/Keras_Animal_Classification/animals/cats/cats_00176.jpg',\n",
       " '/home/mutlu/Public/My-Machine-Learning-and-Deep-Learning-Journey/Keras_Animal_Classification/animals/cats/cats_00702.jpg']"
      ]
     },
     "execution_count": 7,
     "metadata": {},
     "output_type": "execute_result"
    }
   ],
   "source": [
    "imagePaths  = [y for x in os.walk(PROJECT_DIR+'/'+'animals/') for y in glob(os.path.join(x[0], '*.jpg'))]\n",
    "#we use random.seed to make generated the same random values in every time\n",
    "random.seed(12)\n",
    "#We are shuffling it because\n",
    "random.shuffle(imagePaths)\n",
    "#Print first 10 imagePaths\n",
    "imagePaths[0:10]"
   ]
  },
  {
   "cell_type": "code",
   "execution_count": 8,
   "metadata": {},
   "outputs": [],
   "source": [
    "labels = []\n",
    "data = []\n",
    "\n",
    "for imagePath in imagePaths:\n",
    "    image = cv2.imread(imagePath)\n",
    "    '''\n",
    "    Each image has different aspect ratio. Therefore we need to resize it.\n",
    "    We will not use convolutional neural network. We will use simple neural network.\n",
    "    Therefore we need to flatten the 32x32x3 images.\n",
    "    '''   \n",
    "    image = cv2.resize(image, (32, 32))\n",
    "    image = image.flatten()\n",
    "    #print(image.shape)\n",
    "    data.append(image)\n",
    "    '''\n",
    "    if you print os.path.sep, it prints forward slash (/) file seperator.\n",
    "    We are splitting file paths with forward slash and get the folder name\n",
    "    that shows us the class of that image\n",
    "    '''\n",
    "    labels.append(imagePath.split(os.path.sep)[-2])\n",
    "    "
   ]
  },
  {
   "cell_type": "code",
   "execution_count": 9,
   "metadata": {},
   "outputs": [],
   "source": [
    "# Convert these arrays into Numpy array and scale the raw pixel intensities to the range [0, 1] to converge faster.\n",
    "data = np.array(data, dtype=\"float\") / 255.0\n",
    "labels = np.array(labels)"
   ]
  },
  {
   "cell_type": "code",
   "execution_count": 10,
   "metadata": {},
   "outputs": [
    {
     "name": "stdout",
     "output_type": "stream",
     "text": [
      "(3000, 3072)\n",
      "(3000,)\n"
     ]
    }
   ],
   "source": [
    "#You cannot use these numpy properties without converting the array to the numpy array\n",
    "data.shape\n",
    "print(data.shape)\n",
    "print(labels.shape)"
   ]
  },
  {
   "cell_type": "code",
   "execution_count": 11,
   "metadata": {
    "scrolled": true
   },
   "outputs": [
    {
     "name": "stdout",
     "output_type": "stream",
     "text": [
      "(2250, 3072)\n",
      "['dogs' 'panda' 'panda' 'cats' 'dogs']\n",
      "['panda' 'dogs' 'dogs' 'panda' 'panda']\n",
      "[[0 1 0]\n",
      " [0 0 1]\n",
      " [0 0 1]\n",
      " [1 0 0]\n",
      " [0 1 0]]\n",
      "[[0 0 1]\n",
      " [0 1 0]\n",
      " [0 1 0]\n",
      " [0 0 1]\n",
      " [0 0 1]]\n",
      "['cats' 'dogs' 'panda']\n"
     ]
    }
   ],
   "source": [
    "# partition the data into training and testing splits using 75% of\n",
    "# the data for training and the remaining 25% for testing\n",
    "(trainX, testX, trainY, testY) = train_test_split(data, labels, test_size=0.25, random_state=12)\n",
    "print(trainX.shape)\n",
    "\n",
    "# convert the labels from integers to vectors (for 2-class, binary\n",
    "# classification you should use Keras' to_categorical function\n",
    "# instead as the scikit-learn's LabelBinarizer will not return a\n",
    "# vector)\n",
    "print(trainY[:5])\n",
    "print(testY[:5])\n",
    "lb = LabelBinarizer() \n",
    "\n",
    "'''\n",
    "Converting into one hot array. We call it one hot because one value is 'hot' in each array.\n",
    "A call to fit_transform  finds all unique class labels in trainY  and then transforms them into one-hot encoded labels.\n",
    "A call to just .transform  on testY  performs just the one-hot encoding step — the unique set of possible class labels \n",
    "was already determined by the call to .fit_transform .\n",
    "'''\n",
    "trainY = lb.fit_transform(trainY)\n",
    "testY = lb.transform(testY)\n",
    "\n",
    "print(trainY[:5])\n",
    "print(testY[:5])\n",
    "print(lb.classes_)"
   ]
  },
  {
   "cell_type": "markdown",
   "metadata": {},
   "source": [
    "# Width and depth of the network\n",
    "Define the <span style=\"color:red;\"><i>(3072 input nodes)->(1024 hidden nodes)->(512 hidden nodes)->(3 output nodes)</i></span>  architecture using Keras"
   ]
  },
  {
   "cell_type": "code",
   "execution_count": 12,
   "metadata": {},
   "outputs": [],
   "source": [
    "model = Sequential()\n",
    "model.add(Dense(1024, input_shape=(32*32*3,), activation=\"sigmoid\"))\n",
    "model.add(Dense(512, activation=\"sigmoid\"))\n",
    "model.add(Dense(len(lb.classes_), activation=\"softmax\")) #lb.classes_ prints ['cats' 'dogs' 'panda'] --> help(lb)"
   ]
  },
  {
   "cell_type": "code",
   "execution_count": 14,
   "metadata": {},
   "outputs": [
    {
     "name": "stdout",
     "output_type": "stream",
     "text": [
      "[INFO] training network...\n",
      "Train on 2250 samples, validate on 750 samples\n",
      "Epoch 1/25\n",
      "2250/2250 [==============================] - 11s 5ms/step - loss: 1.0958 - acc: 0.3671 - val_loss: 1.0925 - val_acc: 0.3480\n",
      "Epoch 2/25\n",
      "2250/2250 [==============================] - 9s 4ms/step - loss: 1.0917 - acc: 0.3609 - val_loss: 1.0902 - val_acc: 0.4027\n",
      "Epoch 3/25\n",
      "2250/2250 [==============================] - 11s 5ms/step - loss: 1.0883 - acc: 0.4160 - val_loss: 1.0870 - val_acc: 0.4520\n",
      "Epoch 4/25\n",
      "2250/2250 [==============================] - 12s 5ms/step - loss: 1.0835 - acc: 0.4227 - val_loss: 1.0932 - val_acc: 0.4627\n",
      "Epoch 5/25\n",
      "2250/2250 [==============================] - 10s 5ms/step - loss: 1.0802 - acc: 0.4529 - val_loss: 1.0820 - val_acc: 0.4627\n",
      "Epoch 6/25\n",
      "2250/2250 [==============================] - 11s 5ms/step - loss: 1.0751 - acc: 0.4538 - val_loss: 1.0758 - val_acc: 0.4973\n",
      "Epoch 7/25\n",
      "2250/2250 [==============================] - 11s 5ms/step - loss: 1.0724 - acc: 0.4862 - val_loss: 1.0748 - val_acc: 0.4280\n",
      "Epoch 8/25\n",
      "2250/2250 [==============================] - 10s 5ms/step - loss: 1.0681 - acc: 0.4729 - val_loss: 1.0693 - val_acc: 0.4253\n",
      "Epoch 9/25\n",
      "2250/2250 [==============================] - 11s 5ms/step - loss: 1.0651 - acc: 0.4907 - val_loss: 1.0649 - val_acc: 0.4720\n",
      "Epoch 10/25\n",
      "2250/2250 [==============================] - 11s 5ms/step - loss: 1.0618 - acc: 0.4893 - val_loss: 1.0636 - val_acc: 0.4587\n",
      "Epoch 11/25\n",
      "2250/2250 [==============================] - 11s 5ms/step - loss: 1.0572 - acc: 0.4920 - val_loss: 1.0673 - val_acc: 0.4400\n",
      "Epoch 12/25\n",
      "2250/2250 [==============================] - 12s 5ms/step - loss: 1.0536 - acc: 0.5102 - val_loss: 1.0617 - val_acc: 0.4280\n",
      "Epoch 13/25\n",
      "2250/2250 [==============================] - 11s 5ms/step - loss: 1.0511 - acc: 0.5053 - val_loss: 1.0530 - val_acc: 0.4920\n",
      "Epoch 14/25\n",
      "2250/2250 [==============================] - 11s 5ms/step - loss: 1.0459 - acc: 0.5227 - val_loss: 1.0498 - val_acc: 0.5067\n",
      "Epoch 15/25\n",
      "2250/2250 [==============================] - 11s 5ms/step - loss: 1.0427 - acc: 0.5036 - val_loss: 1.0493 - val_acc: 0.4773\n",
      "Epoch 16/25\n",
      "2250/2250 [==============================] - 11s 5ms/step - loss: 1.0403 - acc: 0.5187 - val_loss: 1.0476 - val_acc: 0.4773\n",
      "Epoch 17/25\n",
      "2250/2250 [==============================] - 11s 5ms/step - loss: 1.0367 - acc: 0.5262 - val_loss: 1.0419 - val_acc: 0.4907\n",
      "Epoch 18/25\n",
      "2250/2250 [==============================] - 11s 5ms/step - loss: 1.0340 - acc: 0.5320 - val_loss: 1.0393 - val_acc: 0.4960\n",
      "Epoch 19/25\n",
      "2250/2250 [==============================] - 12s 5ms/step - loss: 1.0296 - acc: 0.5307 - val_loss: 1.0363 - val_acc: 0.4933\n",
      "Epoch 20/25\n",
      "2250/2250 [==============================] - 11s 5ms/step - loss: 1.0259 - acc: 0.5307 - val_loss: 1.0309 - val_acc: 0.5160\n",
      "Epoch 21/25\n",
      "2250/2250 [==============================] - 11s 5ms/step - loss: 1.0226 - acc: 0.5324 - val_loss: 1.0274 - val_acc: 0.5147\n",
      "Epoch 22/25\n",
      "2250/2250 [==============================] - 11s 5ms/step - loss: 1.0203 - acc: 0.5400 - val_loss: 1.0278 - val_acc: 0.5013\n",
      "Epoch 23/25\n",
      "2250/2250 [==============================] - 11s 5ms/step - loss: 1.0154 - acc: 0.5409 - val_loss: 1.0296 - val_acc: 0.4747\n",
      "Epoch 24/25\n",
      "2250/2250 [==============================] - 11s 5ms/step - loss: 1.0129 - acc: 0.5422 - val_loss: 1.0187 - val_acc: 0.5107\n",
      "Epoch 25/25\n",
      "2250/2250 [==============================] - 11s 5ms/step - loss: 1.0088 - acc: 0.5391 - val_loss: 1.0166 - val_acc: 0.5107\n"
     ]
    }
   ],
   "source": [
    "learning_rate = 0.001\n",
    "epochs = 25\n",
    "# compile the model using SGD as our optimizer and categorical\n",
    "# cross-entropy loss (you'll want to use binary_crossentropy\n",
    "# for 2-class classification)\n",
    "print(\"[INFO] training network...\")\n",
    "opt = SGD(lr=learning_rate)\n",
    "#If there is 2 classes you would want to swap out \"categorical_crossentropy\"  for \"binary_crossentropy\" .\n",
    "model.compile(loss=\"categorical_crossentropy\", optimizer=opt, metrics=[\"accuracy\"])\n",
    "# train the neural network\n",
    "H = model.fit(trainX, trainY, validation_data=(testX, testY), epochs=epochs, batch_size=16)"
   ]
  },
  {
   "cell_type": "code",
   "execution_count": 15,
   "metadata": {
    "scrolled": true
   },
   "outputs": [
    {
     "name": "stdout",
     "output_type": "stream",
     "text": [
      "[INFO] evaluating network...\n",
      "             precision    recall  f1-score   support\n",
      "\n",
      "       cats       0.56      0.04      0.08       243\n",
      "       dogs       0.47      0.67      0.55       263\n",
      "      panda       0.55      0.80      0.65       244\n",
      "\n",
      "avg / total       0.52      0.51      0.43       750\n",
      "\n"
     ]
    },
    {
     "data": {
      "image/png": "[encoded data removed]",
      "text/plain": [
       "<Figure size 432x288 with 1 Axes>"
      ]
     },
     "metadata": {},
     "output_type": "display_data"
    }
   ],
   "source": [
    "# evaluate the network\n",
    "print(\"[INFO] evaluating network...\")\n",
    "predictions = model.predict(testX, batch_size=32)\n",
    "print(classification_report(testY.argmax(axis=1), \n",
    "                            predictions.argmax(axis=1), target_names=lb.classes_))\n",
    "\n",
    "# plot the training loss and accuracy\n",
    "N = np.arange(0, epochs)\n",
    "plt.style.use(\"ggplot\")\n",
    "plt.figure()\n",
    "plt.plot(N, H.history[\"loss\"], label=\"train_loss\")\n",
    "plt.plot(N, H.history[\"val_loss\"], label=\"val_loss\")\n",
    "plt.plot(N, H.history[\"acc\"], label=\"train_acc\")\n",
    "plt.plot(N, H.history[\"val_acc\"], label=\"val_acc\")\n",
    "plt.title(\"Training Loss and Accuracy (Simple NN)\")\n",
    "plt.xlabel(\"Epoch #\")\n",
    "plt.ylabel(\"Loss/Accuracy\")\n",
    "plt.legend()\n",
    "plt.show()"
   ]
  },
  {
   "cell_type": "markdown",
   "metadata": {},
   "source": [
    "Precision is hitting the subject class trully.\n",
    "It can know 35 percent none cat pictures that they are none cat.\n",
    "F1 Score is a tool to do trade-off between precision and recall. F1 is middle of the precision and recall. F0.5 closer to the precision. F10 is closer to the recall."
   ]
  },
  {
   "cell_type": "code",
   "execution_count": 16,
   "metadata": {},
   "outputs": [
    {
     "name": "stdout",
     "output_type": "stream",
     "text": [
      "[INFO] serializing network and label binarizer...\n"
     ]
    }
   ],
   "source": [
    "# save the model and label binarizer to disk\n",
    "print(\"[INFO] serializing network and label binarizer...\")\n",
    "model.save(os.path.join(PROJECT_DIR,\"output/DenseNN.model\"))\n",
    "f = open(os.path.join(PROJECT_DIR,\"output/CatDogPanda.pickle\"), \"wb\")\n",
    "f.write(pickle.dumps(lb))\n",
    "f.close()\n"
   ]
  }
 ],
 "metadata": {
  "kernelspec": {
   "display_name": "keras",
   "language": "python",
   "name": "keras"
  },
  "language_info": {
   "codemirror_mode": {
    "name": "ipython",
    "version": 3
   },
   "file_extension": ".py",
   "mimetype": "text/x-python",
   "name": "python",
   "nbconvert_exporter": "python",
   "pygments_lexer": "ipython3",
   "version": "3.6.6"
  }
 },
 "nbformat": 4,
 "nbformat_minor": 2
}
